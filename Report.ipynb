{
 "cells": [
  {
   "cell_type": "markdown",
   "metadata": {},
   "source": [
    "# Rapport: Implémentation de Hadoop \"from scratch\" en Java"
   ]
  },
  {
   "cell_type": "markdown",
   "metadata": {},
   "source": [
    "## Etape 1: faire un programme séquentiel non parallélisé qui compte le nombre d'occurrences des mots dans un fichier."
   ]
  },
  {
   "cell_type": "markdown",
   "metadata": {},
   "source": [
    "## 1 Premier comptage en séquentiel pur\n",
    "\n",
    "Il faut stocker à la fois le mot et son compte donc l'utilisation d'une `List` n'est pas pertinente. `HashSet` est plus rapide que `HashMap` mais elle ne propose pas de fonction de tri. Comme pour les questions suivantes nous cherchons à trier notre dictionnaire, nous utiliserons une `HashMap`"
   ]
  },
  {
   "cell_type": "code",
   "execution_count": 7,
   "metadata": {
    "scrolled": true
   },
   "outputs": [],
   "source": [
    "import java.io.IOException;\n",
    "import java.nio.file.Files;\n",
    "import java.nio.file.Paths;\n",
    "import java.text.ParseException;\n",
    "import java.util.*;"
   ]
  },
  {
   "cell_type": "markdown",
   "metadata": {},
   "source": [
    "### Count\n",
    "\n",
    "Méthode comptant les mot d'un fichier d'input: \n",
    "\n",
    "    Input: [String] Le nom du fichier \n",
    "    Output: [Map] Un Map avec en clé un mot et en valeur son nombre     d'occurence.\n",
    "    "
   ]
  },
  {
   "cell_type": "code",
   "execution_count": 8,
   "metadata": {},
   "outputs": [],
   "source": [
    "public static Map<String, Integer> count(String fileName){\n",
    "    List<String> lines = fileToArrayList(fileName);\n",
    "    List<String> words = separeWordsInLine(lines);\n",
    "\n",
    "    Map<String, Integer> mapWordCount = new HashMap<>();\n",
    "    for (String word :words) {\n",
    "        if(mapWordCount.containsKey(word.toLowerCase())){\n",
    "            mapWordCount.put(word.toLowerCase(), mapWordCount.get(word.toLowerCase()) + 1);\n",
    "        }else{\n",
    "            mapWordCount.put(word.toLowerCase(), 1);\n",
    "        }\n",
    "    }\n",
    "    return mapWordCount;\n",
    "}"
   ]
  },
  {
   "cell_type": "markdown",
   "metadata": {},
   "source": [
    "#### fileoArrayList\n",
    "\n",
    "Méthode convertissant un fichier en liste de ligne\n",
    "\n",
    "    Input: [String] le nom du fichier\n",
    "    Output: [List] liste de ligne du fichier\n"
   ]
  },
  {
   "cell_type": "code",
   "execution_count": 9,
   "metadata": {},
   "outputs": [],
   "source": [
    "public static List<String> fileToArrayList(String fileName){\n",
    "        List<String> lines = new ArrayList<>();\n",
    "        try{\n",
    "            lines = Files.readAllLines(Paths.get(fileName));\n",
    "        }catch (IOException e){\n",
    "            System.out.println(e.getMessage());\n",
    "        }\n",
    "        return lines;\n",
    "    }"
   ]
  },
  {
   "cell_type": "markdown",
   "metadata": {},
   "source": [
    "#### separeWordsInLine\n"
   ]
  },
  {
   "cell_type": "code",
   "execution_count": 15,
   "metadata": {},
   "outputs": [],
   "source": [
    "public static List<String> separeWordsInLine(List<String> lineArray){\n",
    "    List<String> wordArray = new ArrayList<>();\n",
    "    for (String line:lineArray) {\n",
    "        String[] tempWordInLine = line.split(\" \"); \n",
    "        for (String word : tempWordInLine) {\n",
    "            if(!word.isEmpty())//Utilisé dans les questions suivantes pour enlever les lignes vides\n",
    "                wordArray.add(word);\n",
    "        }\n",
    "    }\n",
    "    return wordArray;\n",
    "}"
   ]
  },
  {
   "cell_type": "code",
   "execution_count": 14,
   "metadata": {},
   "outputs": [
    {
     "name": "stdout",
     "output_type": "stream",
     "text": [
      "{deer=2, car=3, river=4, beer=2}\n"
     ]
    }
   ],
   "source": [
    "//Comment to make JupyterLab run\n",
    "//public static void  main(String[] args){\n",
    "        long startTime = System.currentTimeMillis();\n",
    "        Map<String, Integer> mapCount = count(\"input.txt\");\n",
    "        System.out.println(mapCount);\n",
    "//    }"
   ]
  },
  {
   "cell_type": "markdown",
   "metadata": {},
   "source": [
    "## 2 Premier tri en séquentiel pur"
   ]
  },
  {
   "cell_type": "markdown",
   "metadata": {},
   "source": [
    "## 3 Deuxième tri alphabétique en séquentiel pur\n"
   ]
  }
 ],
 "metadata": {
  "kernelspec": {
   "display_name": "Java",
   "language": "java",
   "name": "java"
  },
  "language_info": {
   "codemirror_mode": "java",
   "file_extension": ".jshell",
   "mimetype": "text/x-java-source",
   "name": "Java",
   "pygments_lexer": "java",
   "version": "11.0.4+11-post-Ubuntu-1ubuntu218.04.3"
  }
 },
 "nbformat": 4,
 "nbformat_minor": 4
}
