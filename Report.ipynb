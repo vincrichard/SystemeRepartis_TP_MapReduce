{
 "cells": [
  {
   "cell_type": "markdown",
   "metadata": {},
   "source": [
    "# Rapport: Implémentation de Hadoop \"from scratch\" en Java"
   ]
  },
  {
   "cell_type": "markdown",
   "metadata": {},
   "source": [
    "<a id=index />"
   ]
  },
  {
   "cell_type": "markdown",
   "metadata": {},
   "source": [
    "\n",
    "Index:\n",
    "====================\n",
    "* [Etape 1:](#etape-1) faire un programme séquentiel non parallélisé qui compte le nombre d'occurrences des mots dans un fichier. \n",
    "\n",
    "     - [1.1](#1-1) Premier comptage en séquentiel pur\n",
    "         + [`count`](#count)\n",
    "         + [`fileToArrayList`](#file-to-array-list)\n",
    "         + [`separeWordsInLine`](#separe-words-in-line)\n",
    "     - [1.2](#1-2) Premier tri en séquentiel pur\n",
    "         + [`sortByFrequency`](#sort-by-frequency)\n",
    "     - [1.3](#1-3) Deuxième tri alphabétique en séquentiel pur\n",
    "     - [1.4](#1-4) Test du programme séquentiel sur le code forestier de Mayotte\n",
    "     - [1.5](#1-5) Les 50 mots du code de la déontologie de la police nationale\n",
    "     - [1.6](#1-6) Les 50 mots du code du domaine public fluvial\n",
    "     - [1.7](#1-7) Les 50 mots du code de la santé publique\n",
    "     - [1.8](#1-8) Chronométrage du programme séquentiel\n",
    "     - [TODO 1.9](#1-9) Travailler sur des plus gros fichiers\n",
    "\n",
    "\n",
    "* [Etape 2:](#etape-2) travailler avec plusieurs ordinateurs en réseau\n",
    "\n",
    "    - [TODO 2.1](#2-1) Nom court, nom long\n",
    "    - [2.2](#2-2) Adresse ip\n",
    "    - [TODO 2.3](#2-3) Du nom vers l’IP\n",
    "    - [TODO 2.4](#2-4) De l’IP vers le nom\n",
    "    - [TODO 2.5](#2-5) Ping pong à l’intérieur!\n",
    "    - [TODO 2.6](#2-6) Ping pong à l’extérieur\n",
    "    - [2.7](#2-7) Calculer en ligne de commande sur l’ordinateur local\n",
    "    - [2.8](#2-8) Calculer en ligne de commande sur un ordinateur distant\n",
    "    - [TODO 2.9](#2-9) Calculer à distance sans mot de passe\n",
    "    \n",
    "    \n",
    "* [Etape 3:](#etape-3) travailler avec des fichiers locaux ou sur un serveur NFS\n",
    "\n",
    "    - [3.1](#3-1) Chemin absolu\n",
    "    - [3.2](#3-2) Un fichier dans le répertoire personnel\n",
    "    - [3.3](#3-3) Ou se trouve le fichier dans le répertoire personnel\n",
    "    - [3.4](#3-4) Un dossier et un fichier dans le répertoire temporaire\n",
    "    - [3.5](#3-5) Trois ordinateurs A B C. On commence avec A. Utilisation du serveur NFS\n",
    "    - [3.6](#3-6) Trois ordinateurs A B C. On continue sur B et sur C. Utilisation du serveur NFS\n",
    "    - [3.7](#3-7) Trois ordinateurs A B C. On commence avec A. Utilisation des disques locaux\n",
    "    - [3.8](#3-8) Trois ordinateurs A B C. On continue sur B et sur C. Utilisation des disques locaux\n",
    "    - [3.9](#3-9) Depuis A, copier de A vers B avec les disques locaux\n",
    "    - [3.10](#3-10) Depuis A, copier de B vers C avec les disques locaux\n",
    "    \n",
    "\n",
    "* [Etape 4:](#etape-4) lancer des programmes java à distance manuellement\n",
    "    \n",
    "    - [4.1](#4-1) Exportation en JAR\n",
    "    - [4.2](#4-2) Exécution sur disque dur local\n",
    "    - [4.3](#4-3) Copie du JAR et exécution distante\n",
    "\n",
    "\n",
    "* [Etape 5:](#etape-5) lancer des programmes en ligne de commande depuis java et afficher la sortie standard et la sortie d’erreur\n",
    "\n",
    "    - [5.1](#5-1) Un programme MASTER java qui lance un autre programme en ligne de commande!\n",
    "    - [5.2](#5-2) Un programme MASTER java qui gère les erreurs de lancement d’un autre programme en ligne de commande.\n",
    "    - [5.3](#5-3) Un programme MASTER java qui lance un slave.jar en ligne de commande.\n",
    "    \n",
    "    \n",
    "* [Etape 6:](#etape-6) gérer les timeout du MASTER\n",
    "\n",
    "     - [6.1](#6-1) Un SLAVE qui simule un calcul de 10 secondes\n",
    "     - [6.2](#6-2) Gérer les timeout au niveau du MASTER\n",
    "     \n",
    "     \n",
    "* [Etape 7:](#etape-7) déployer automatiquement le programme SLAVE sur un ensemble de machines\n",
    "\n",
    "     - [7.1](#7-1) Un programme DEPLOY : Test de connection SSH multiple\n",
    "     - [7.2](#7-2) Un programme DEPLOY : copie de slave.jar multiple\n",
    "     \n",
    "     \n",
    "* [Etape 8:](#etape-8) nettoyer un ensemble de machines avec CLEAN\n",
    "\n",
    "    - [8.1](#8-1) Un programme “CLEAN” qui nettoie les machines distantes\n",
    "    - [8.2](#8-2) Vérification du DEPLOY et du CLEAN\n",
    "    \n",
    "    \n",
    "* [Etape 9:](#etape-9) lancer le programme SLAVE sur un ordinateur à distance\n",
    "\n",
    "    - [9.1](#9-1) CLEAN et DEPLOY\n",
    "    - [9.2](#9-2) Master lançant Slave à distance\n",
    "    \n",
    "    \n",
    "* [Etape 10:](#etape-10) MapReduce - SPLIT et MAP\n",
    "\n",
    "    - [10.1](#10-1) Un MASTER qui déploie les splits\n",
    "    - [10.2](#10-2) Un SLAVE qui fait la phase de map\n",
    "    \n",
    "    \n",
    "* [Etape 11:](#etape-11) MapReduce - SHUFFLE\n"
   ]
  },
  {
   "cell_type": "markdown",
   "metadata": {},
   "source": [
    "<a id=etape-1 />"
   ]
  },
  {
   "cell_type": "markdown",
   "metadata": {},
   "source": [
    "## Etape 1: faire un programme séquentiel non parallélisé qui compte le nombre d'occurrences des mots dans un fichier.\n",
    "\n",
    "[Retour index](#index)"
   ]
  },
  {
   "cell_type": "markdown",
   "metadata": {},
   "source": [
    "<a id=1-1 />"
   ]
  },
  {
   "cell_type": "markdown",
   "metadata": {},
   "source": [
    "\n",
    "## 1.1 Premier comptage en séquentiel pur\n",
    "\n",
    ">Implémentez un logiciel en java qui compte le nombre d’occurrences des mots d’un fichier d’entrée de manière non parallélisée (monothread, une seul thread), en utilisant un seul processeur. <br>\n",
    "Quelle structure de donnée est la plus pertinente pour stocker les résultats: List, HashMap ou HashSet ou une autre ? Pour quelle raison ? <br>\n",
    "Testez votre programme avec un fichier d’entrée input.txt avec comme contenu:\n",
    "\n",
    "Il faut stocker à la fois le mot et son compte donc l'utilisation d'une `List` n'est pas pertinente. `HashSet` est plus rapide que `HashMap` mais elle ne propose pas de fonction de tri. Comme pour les questions suivantes nous cherchons à trier notre dictionnaire, nous utiliserons une `HashMap`"
   ]
  },
  {
   "cell_type": "code",
   "execution_count": 3,
   "metadata": {
    "scrolled": true
   },
   "outputs": [],
   "source": [
    "import java.io.IOException;\n",
    "import java.nio.file.Files;\n",
    "import java.nio.file.Paths;\n",
    "import java.text.ParseException;\n",
    "import java.util.*;"
   ]
  },
  {
   "cell_type": "markdown",
   "metadata": {},
   "source": [
    "\n",
    "### `Count` \n",
    "\n",
    "Méthode comptant les mot d'un fichier d'input: \n",
    "\n",
    ">Input: [String] Le nom du fichier <br>\n",
    ">Output: [Map] Un Map avec en clé un mot et en valeur son nombre d'occurence.\n",
    "    "
   ]
  },
  {
   "cell_type": "code",
   "execution_count": 4,
   "metadata": {},
   "outputs": [],
   "source": [
    "public Map<String, Integer> count(String fileName){\n",
    "    List<String> lines = fileToArrayList(fileName);\n",
    "    List<String> words = separeWordsInLine(lines);\n",
    "\n",
    "    Map<String, Integer> mapWordCount = new HashMap<>();\n",
    "    for (String word :words) {\n",
    "        if(mapWordCount.containsKey(word.toLowerCase())){\n",
    "            mapWordCount.put(word.toLowerCase(), mapWordCount.get(word.toLowerCase()) + 1);\n",
    "        }else{\n",
    "            mapWordCount.put(word.toLowerCase(), 1);\n",
    "        }\n",
    "    }\n",
    "    return mapWordCount;\n",
    "}"
   ]
  },
  {
   "cell_type": "markdown",
   "metadata": {},
   "source": [
    "<a id=file-to-array-list /></a>\n",
    "#### `fileoArrayList`\n",
    "\n",
    "Méthode convertissant un fichier en liste de ligne\n",
    "\n",
    ">Input: [String] Le nom du fichier <br>\n",
    ">Output: [List<String>] liste de ligne du fichier\n"
   ]
  },
  {
   "cell_type": "code",
   "execution_count": 5,
   "metadata": {},
   "outputs": [],
   "source": [
    "public List<String> fileToArrayList(String fileName){\n",
    "        List<String> lines = new ArrayList<>();\n",
    "        try{\n",
    "            lines = Files.readAllLines(Paths.get(fileName));\n",
    "        }catch (IOException e){\n",
    "            System.out.println(e.getMessage());\n",
    "        }\n",
    "        return lines;\n",
    "    }"
   ]
  },
  {
   "cell_type": "markdown",
   "metadata": {},
   "source": [
    "<a id=separe-words-in-line /></a>\n",
    "#### `separeWordsInLine`\n",
    "\n",
    "Méthode convertissant un list de ligne en Input en une list de mot composant les lignes. \n",
    "La méthode ne prends pas en compte les lignes vides.\n",
    "    \n",
    ">Input: [List<String>] List contenant les ligne <br>\n",
    ">Output: [List<String>] List contenant les mots"
   ]
  },
  {
   "cell_type": "code",
   "execution_count": 6,
   "metadata": {},
   "outputs": [],
   "source": [
    "public List<String> separeWordsInLine(List<String> lineArray){\n",
    "    List<String> wordArray = new ArrayList<>();\n",
    "    for (String line:lineArray) {\n",
    "        String[] tempWordInLine = line.split(\" \"); \n",
    "        for (String word : tempWordInLine) {\n",
    "            if(!word.isEmpty())//Utilisé dans les questions suivantes pour enlever les lignes vides\n",
    "                wordArray.add(word);\n",
    "        }\n",
    "    }\n",
    "    return wordArray;\n",
    "}"
   ]
  },
  {
   "cell_type": "markdown",
   "metadata": {},
   "source": [
    "On utilise notre fonction `count` pour créer notre dictionnaire de word count."
   ]
  },
  {
   "cell_type": "code",
   "execution_count": 7,
   "metadata": {},
   "outputs": [
    {
     "name": "stdout",
     "output_type": "stream",
     "text": [
      "{deer=2, car=3, river=4, beer=2}\n"
     ]
    }
   ],
   "source": [
    "//Comment to make JupyterLab run\n",
    "//public static void  main(String[] args){\n",
    "        long startTime = System.currentTimeMillis();\n",
    "        Map<String, Integer> mapCount = count(\"data/input.txt\");\n",
    "        System.out.println(mapCount);\n",
    "//    }"
   ]
  },
  {
   "cell_type": "markdown",
   "metadata": {},
   "source": [
    "<a id=1-2 />"
   ]
  },
  {
   "cell_type": "markdown",
   "metadata": {},
   "source": [
    "\n",
    "## 1.2 Premier tri en séquentiel pur\n",
    "\n",
    ">Modifiez votre programme pour trier par nombre d'occurrences:"
   ]
  },
  {
   "cell_type": "markdown",
   "metadata": {},
   "source": [
    "On crée une nouvelle fonction `sortByFrequency` qui se chargera de trier notre dictionaire et \n",
    "`display` qui affichera nos résultats."
   ]
  },
  {
   "cell_type": "markdown",
   "metadata": {},
   "source": [
    "<a id=sort-by-frequency /></a>\n",
    "## `sortByFrequency`"
   ]
  },
  {
   "cell_type": "code",
   "execution_count": 8,
   "metadata": {},
   "outputs": [],
   "source": [
    "private Map<String, Integer> sortByFrequency(Map<String, Integer> mapToSort) {\n",
    "    //Creation of an ArrayList of Entries to sort the content of the dictionnary\n",
    "    List<Map.Entry<String, Integer>> keySorted = new ArrayList<>(mapToSort.entrySet());\n",
    "    keySorted.sort(new Comparator<Map.Entry<String, Integer>>() {\n",
    "        //Override of regular sort method to suitour needs\n",
    "        @Override\n",
    "        public int compare(Map.Entry<String, Integer> s, Map.Entry<String, Integer> t1) {\n",
    "            return t1.getValue().compareTo(s.getValue());\n",
    "        }\n",
    "    });\n",
    "    //Creation of sorted dictionary with LinkedHashMap to keep the sorted order\n",
    "    Map<String, Integer> mapSorted = new LinkedHashMap<>();\n",
    "    for (Map.Entry<String, Integer> entry: keySorted) {\n",
    "        mapSorted.put(entry.getKey(), entry.getValue());\n",
    "    }\n",
    "    return mapSorted;\n",
    "}"
   ]
  },
  {
   "cell_type": "markdown",
   "metadata": {},
   "source": [
    "<a id=display /></a>\n",
    "\n",
    "### `display`"
   ]
  },
  {
   "cell_type": "code",
   "execution_count": 9,
   "metadata": {},
   "outputs": [],
   "source": [
    "private void display(Map<String, Integer> mapSorted) {\n",
    "    System.out.println(\"Affichage par Quantite\");\n",
    "    int i =0;\n",
    "    for (Map.Entry<String, Integer> entry: mapSorted.entrySet()){\n",
    "        if(i>50)\n",
    "            break;\n",
    "        System.out.println(entry.getKey()+ \" : \" +  entry.getValue());\n",
    "        i++;\n",
    "    }\n",
    "}"
   ]
  },
  {
   "cell_type": "code",
   "execution_count": 10,
   "metadata": {},
   "outputs": [
    {
     "name": "stdout",
     "output_type": "stream",
     "text": [
      "Affichage par Quantite\n",
      "river : 4\n",
      "car : 3\n",
      "deer : 2\n",
      "beer : 2\n"
     ]
    }
   ],
   "source": [
    "//Main\n",
    "Map<String, Integer> mapSorted = sortByFrequency(mapCount);\n",
    "display(mapSorted);"
   ]
  },
  {
   "cell_type": "markdown",
   "metadata": {},
   "source": [
    "<a id=1-3 />"
   ]
  },
  {
   "cell_type": "markdown",
   "metadata": {},
   "source": [
    "## 1.3 Deuxième tri alphabétique en séquentiel pur\n",
    "\n",
    ">Modifiez le programme pour trier alphabétiquement pour les mots à égalité du nombre d’occurrences:\n"
   ]
  },
  {
   "cell_type": "markdown",
   "metadata": {},
   "source": [
    "On modifie notre méthode `sortByFrequency` pour trier notre dictionnaire de manière alphabétique et séquentiel pur. On a:"
   ]
  },
  {
   "cell_type": "code",
   "execution_count": 11,
   "metadata": {},
   "outputs": [],
   "source": [
    "private Map<String, Integer> sortByFrequency(Map<String, Integer> mapToSort) {\n",
    "    //Creation of an ArrayList of Entries to sort the content of the dictionnary\n",
    "    List<Map.Entry<String, Integer>> keySorted = new ArrayList<>(mapToSort.entrySet());\n",
    "    keySorted.sort(new Comparator<Map.Entry<String, Integer>>() {\n",
    "        //Override of regular sort method to suitour needs\n",
    "        @Override\n",
    "        public int compare(Map.Entry<String, Integer> s, Map.Entry<String, Integer> t1) {\n",
    "            //Ajout du trie alphabétique pour les mots ayant le même nombre d'occurence\n",
    "            if(t1.getValue() == s.getValue()){\n",
    "                return s.getKey().compareTo(t1.getKey());\n",
    "            }\n",
    "            return t1.getValue().compareTo(s.getValue());\n",
    "        }\n",
    "    });\n",
    "    //Creation of sorted dictionary with LinkedHashMap to keep the sorted order\n",
    "    Map<String, Integer> mapSorted = new LinkedHashMap<>();\n",
    "    for (Map.Entry<String, Integer> entry: keySorted) {\n",
    "        mapSorted.put(entry.getKey(), entry.getValue());\n",
    "    }\n",
    "    return mapSorted;\n",
    "}"
   ]
  },
  {
   "cell_type": "code",
   "execution_count": 12,
   "metadata": {},
   "outputs": [
    {
     "name": "stdout",
     "output_type": "stream",
     "text": [
      "Affichage par Quantite\n",
      "river : 4\n",
      "car : 3\n",
      "beer : 2\n",
      "deer : 2\n"
     ]
    }
   ],
   "source": [
    "//Main\n",
    "Map<String, Integer> mapSorted = sortByFrequency(mapCount);\n",
    "display(mapSorted);"
   ]
  },
  {
   "cell_type": "markdown",
   "metadata": {},
   "source": [
    "<a id=1-4 />"
   ]
  },
  {
   "cell_type": "markdown",
   "metadata": {},
   "source": [
    "## 1.4 Test du programme séquentiel sur le code forestier de Mayotte\n",
    "\n",
    ">Testez ensuite votre programme avec le code forestier de Mayotte disponible sur github forestier_mayotte.txt :<br> https://github.com/legifrance/Les-codes-en-vigueur <br>\n",
    "Votre programme a-t-il fonctionné du premier coup ? <br>\n",
    "Vérifiez en ouvrant le fichier texte qu’il contient bien du texte et non du code HTML. <br>\n",
    "Ne perdez pas de temps à corriger les éventuelles erreurs dues aux caractères spéciaux ou à des mots suspects ou illisibles (de toutes façons par la suite il y aura du chinois dans le texte)."
   ]
  },
  {
   "cell_type": "code",
   "execution_count": 13,
   "metadata": {},
   "outputs": [
    {
     "name": "stdout",
     "output_type": "stream",
     "text": [
      "Affichage par Quantite\n",
      "de : 12\n",
      "biens : 8\n",
      "ou : 8\n",
      "code : 6\n",
      "forestier : 6\n",
      "des : 5\n",
      ": : 4\n",
      "aux : 4\n",
      "communes : 4\n",
      "dispositions : 4\n",
      "forestiers : 4\n",
      "gestion : 4\n",
      "le : 4\n",
      "les : 4\n",
      "mayotte : 4\n",
      "tous : 4\n",
      "à : 4\n",
      "législative : 3\n",
      "partie : 3\n",
      "accordé : 2\n",
      "agroforestiers : 2\n",
      "agroforestiers. : 2\n",
      "agroforestière : 2\n",
      "aides : 2\n",
      "article : 2\n",
      "attachées : 2\n",
      "bonne : 2\n",
      "bénéfice : 2\n",
      "constitue : 2\n",
      "dont : 2\n",
      "démembrer : 2\n",
      "elle : 2\n",
      "est : 2\n",
      "et : 2\n",
      "fait : 2\n",
      "forestière : 2\n",
      "garanties : 2\n",
      "ii : 2\n",
      "l'engagement : 2\n",
      "l'unité : 2\n",
      "l021 : 2\n",
      "leur : 2\n",
      "livre : 2\n",
      "ne : 2\n",
      "par : 2\n",
      "partie. : 2\n",
      "pas : 2\n",
      "prioritairement : 2\n",
      "propriétaires : 2\n",
      "propriété : 2\n",
      "préliminaire : 2\n"
     ]
    }
   ],
   "source": [
    "//Main\n",
    "long startTime = System.currentTimeMillis();\n",
    "Map<String, Integer> mapCount = count(\"data/forestier_mayotte.txt\");\n",
    "Map<String, Integer> mapSorted = sortByFrequency(mapCount);\n",
    "display(mapSorted);"
   ]
  },
  {
   "cell_type": "markdown",
   "metadata": {},
   "source": [
    "<a id=1-5 />"
   ]
  },
  {
   "cell_type": "markdown",
   "metadata": {},
   "source": [
    "## 1.5 Les 50 mots du code de la déontologie de la police nationale\n",
    "\n",
    ">Testez votre programme avec le code de déontologie de la police nationale disponible sur github deontologie_police_nationale.txt : https://github.com/legifrance/Les-codes-en-vigueur <br>\n",
    "De même ne perdez pas de temps à filtrer les caractères spéciaux ou autres mots bizarres. Pourquoi ? Car nous travaillerons ensuite sur des textes en chinois, japonais, arabe et d’autres langues. Si vous implémentez une étape de filtrage ici en français elle ne servira à rien par la suite. Quels sont les 5 premiers mots (qui ressemblent à des mots) parmi les 50 premiers de la liste triée résultat ?"
   ]
  },
  {
   "cell_type": "markdown",
   "metadata": {},
   "source": [
    "Les 5 premiers mots ressemblant à des mots sont:\n",
    "* police : 35\n",
    "* article : 20\n",
    "* nationale : 15\n",
    "* titre : 12\n",
    "* fonctionnaires : 10"
   ]
  },
  {
   "cell_type": "code",
   "execution_count": 14,
   "metadata": {},
   "outputs": [
    {
     "name": "stdout",
     "output_type": "stream",
     "text": [
      "Affichage par Quantite\n",
      "de : 98\n",
      "la : 50\n",
      "police : 35\n",
      "des : 33\n",
      "et : 33\n",
      "le : 27\n",
      "à : 25\n",
      "les : 24\n",
      "article : 20\n",
      "↬ : 19\n",
      "nationale : 15\n",
      "en : 13\n",
      "est : 13\n",
      "titre : 12\n",
      "ou : 11\n",
      "qui : 11\n",
      "fonctionnaires : 10\n",
      ": : 9\n",
      "aux : 9\n",
      "code : 9\n",
      "fonctionnaire : 9\n",
      "l'autorité : 9\n",
      "par : 9\n",
      "du : 8\n",
      "leur : 8\n",
      "ses : 8\n",
      "au : 7\n",
      "devoirs : 7\n",
      "déontologie : 7\n",
      "il : 7\n",
      "ne : 7\n",
      "a : 6\n",
      "dans : 6\n",
      "cas : 5\n",
      "commandement. : 5\n",
      "faire : 5\n",
      "l'ordre : 5\n",
      "ordres : 5\n",
      "pour : 5\n",
      "sa : 5\n",
      "se : 5\n",
      "sont : 5\n",
      "tout : 5\n",
      "doit : 4\n",
      "droits : 4\n",
      "elle : 4\n",
      "nationale. : 4\n",
      "pas : 4\n",
      "responsabilité : 4\n",
      "si : 4\n",
      "subordonné : 4\n"
     ]
    }
   ],
   "source": [
    "//Main\n",
    "long startTime = System.currentTimeMillis();\n",
    "Map<String, Integer> mapCount = count(\"data/deontologie_police_national.txt\");\n",
    "Map<String, Integer> mapSorted = sortByFrequency(mapCount);\n",
    "display(mapSorted);"
   ]
  },
  {
   "cell_type": "markdown",
   "metadata": {},
   "source": [
    "<a id=1-6 />"
   ]
  },
  {
   "cell_type": "markdown",
   "metadata": {},
   "source": [
    "## 1.6 Les 50 mots du code du domaine public fluvial \n",
    "\n",
    ">Testez votre programme avec le code du domaine public fluvial domaine_public_fluvial.txt.\n",
    "Quels sont les 5 premiers mots (qui ressemblent à des mots) parmi les 50 premiers de la liste triée résultat ? "
   ]
  },
  {
   "cell_type": "markdown",
   "metadata": {},
   "source": [
    "Les 5 premiers mots ressemblant à des mots sont:\n",
    "* article : 107\n",
    "* bateau : 74\n",
    "* tribunal : 72\n",
    "* lieu : 60\n",
    "* bureau : 50"
   ]
  },
  {
   "cell_type": "code",
   "execution_count": 15,
   "metadata": {
    "collapsed": true,
    "jupyter": {
     "outputs_hidden": true
    }
   },
   "outputs": [
    {
     "name": "stdout",
     "output_type": "stream",
     "text": [
      "Affichage par Quantite\n",
      "de : 630\n",
      "le : 425\n",
      "la : 364\n",
      "du : 347\n",
      "et : 266\n",
      "les : 232\n",
      "des : 222\n",
      "à : 209\n",
      "est : 173\n",
      "dans : 150\n",
      "par : 124\n",
      "sur : 123\n",
      "ou : 118\n",
      "en : 109\n",
      "article : 107\n",
      "↬ : 103\n",
      "au : 97\n",
      "un : 79\n",
      "bateau : 74\n",
      "pour : 73\n",
      "tribunal : 72\n",
      "l'article : 68\n",
      "aux : 66\n",
      "il : 66\n",
      "lieu : 60\n",
      "; : 56\n",
      "qui : 54\n",
      ": : 50\n",
      "bureau : 50\n",
      "que : 46\n",
      "d'un : 44\n",
      "navigation : 43\n",
      "où : 43\n",
      "son : 43\n",
      "code : 42\n",
      "titre : 42\n",
      "bateaux : 41\n",
      "se : 41\n",
      "d'immatriculation : 40\n",
      "domicile : 38\n",
      "a : 37\n",
      "juge : 36\n",
      "délai : 34\n",
      "propriétaire : 34\n",
      "s'il : 33\n",
      "créanciers : 32\n",
      "être : 31\n",
      "doit : 30\n",
      "saisie : 30\n",
      "et, : 29\n",
      "certificat : 28\n"
     ]
    }
   ],
   "source": [
    "//Main\n",
    "long startTime = System.currentTimeMillis();\n",
    "Map<String, Integer> mapCount = count(\"data/domaine_public_fluvial.txt\");\n",
    "Map<String, Integer> mapSorted = sortByFrequency(mapCount);\n",
    "display(mapSorted);"
   ]
  },
  {
   "cell_type": "markdown",
   "metadata": {},
   "source": [
    "<a id=1-7 />"
   ]
  },
  {
   "cell_type": "markdown",
   "metadata": {},
   "source": [
    "## 1.7 Les 50 mots du code de la santé publique\n",
    "\n",
    ">Testez votre programme avec le code de la santé publique sante_publique.txt.\n",
    "Quels sont les 5 premiers mots (qui ressemblent à des mots) parmi les 50 premiers de la liste triée résultat ? "
   ]
  },
  {
   "cell_type": "markdown",
   "metadata": {},
   "source": [
    "Les 5 premiers mots ressemblant à des mots sont:\n",
    "* article : 23070\n",
    "* santé : 14473\n",
    "* directeur : 8446\n",
    "* conditions : 7864\n",
    "* l'agence : 7750"
   ]
  },
  {
   "cell_type": "code",
   "execution_count": 16,
   "metadata": {
    "collapsed": true,
    "jupyter": {
     "outputs_hidden": true
    }
   },
   "outputs": [
    {
     "name": "stdout",
     "output_type": "stream",
     "text": [
      "Affichage par Quantite\n",
      "de : 190781\n",
      "la : 82333\n",
      "des : 67761\n",
      "à : 65500\n",
      "les : 62322\n",
      "et : 60980\n",
      "le : 56644\n",
      "du : 48500\n",
      "ou : 39584\n",
      "en : 31700\n",
      "par : 30694\n",
      "au : 25694\n",
      "dans : 25076\n",
      "article : 23070\n",
      "l'article : 22994\n",
      "↬ : 21810\n",
      "est : 21700\n",
      "un : 20480\n",
      "; : 19388\n",
      "l. : 18410\n",
      "pour : 16860\n",
      ": : 16166\n",
      "aux : 16136\n",
      "sont : 14946\n",
      "santé : 14473\n",
      "une : 13842\n",
      "sur : 12622\n",
      "r. : 11224\n",
      "que : 11038\n",
      "qui : 9744\n",
      "d'un : 9664\n",
      "directeur : 8446\n",
      "être : 8046\n",
      "conditions : 7864\n",
      "peut : 7842\n",
      "l'agence : 7750\n",
      "ne : 7708\n",
      "d'une : 7372\n",
      "conseil : 7306\n",
      "son : 7294\n",
      "cas : 6932\n",
      "il : 6662\n",
      "général : 6632\n",
      "ce : 6222\n",
      "ces : 6186\n",
      "a : 6038\n",
      "dispositions : 5836\n",
      "leur : 5762\n",
      "1° : 5648\n",
      "pas : 5602\n",
      "2° : 5470\n"
     ]
    }
   ],
   "source": [
    "//Main\n",
    "long startTime = System.currentTimeMillis();\n",
    "Map<String, Integer> mapCount = count(\"data/sante_publique.txt\");\n",
    "Map<String, Integer> mapSorted = sortByFrequency(mapCount);\n",
    "display(mapSorted);"
   ]
  },
  {
   "cell_type": "markdown",
   "metadata": {},
   "source": [
    "<a id=1-8 />"
   ]
  },
  {
   "cell_type": "markdown",
   "metadata": {},
   "source": [
    "## 1.8 Chronométrage du programme séquentiel\n",
    "\n",
    ">Chronométrer votre programme sur le code de la santé publique.\n"
   ]
  },
  {
   "cell_type": "code",
   "execution_count": 17,
   "metadata": {},
   "outputs": [
    {
     "name": "stdout",
     "output_type": "stream",
     "text": [
      "input.txt\n",
      "Counting time is:49 ms\n",
      "Sorting time is:87 ms\n"
     ]
    }
   ],
   "source": [
    "//Main\n",
    "//Timer du count\n",
    "long startTime = System.currentTimeMillis();\n",
    "Map<String, Integer> mapCount = count(\"input.txt\");\n",
    "long endTime = System.currentTimeMillis();\n",
    "long totalTimeCount = endTime - startTime;\n",
    "//Timer du sort\n",
    "startTime = System.currentTimeMillis();\n",
    "Map<String, Integer> mapSorted = sortByFrequency(mapCount);\n",
    "endTime = System.currentTimeMillis();\n",
    "long totalTimeSort = endTime - startTime;\n",
    "//Display\n",
    "System.out.println(\"Counting time is:\" + totalTimeCount + \" ms\");\n",
    "System.out.println(\"Sorting time is:\" + totalTimeSort + \" ms\");"
   ]
  },
  {
   "cell_type": "markdown",
   "metadata": {},
   "source": [
    "<a id=1-9 />"
   ]
  },
  {
   "cell_type": "markdown",
   "metadata": {},
   "source": [
    "## 1.9 Travailler sur des plus gros fichiers\n",
    "\n",
    ">Testez votre programme sur un cas réel: un extrait de toutes les pages internet transformées au format texte brut (format WET). Toutes les pages sur  internet au format texte sont disponibles sur http://commoncrawl.org/the-data/get-started/ : chaque mois, environ 3 milliards de pages web, soit 250 To de données sont stockées. Ces données sont disponibles par tranche de moins d’1Go environ, vous travaillerez sur une tranche de 380Mo. <br>\n",
    "J’ai choisi une tranche en particulier pour avoir une comparaison entre nous (vous pouvez tester sur d’autres tranches si vous voulez). Téléchargez cette tranche ici: <br>\n",
    "https://commoncrawl.s3.amazonaws.com/crawl-data/CC-MAIN-2017-13/segments/1490218189495.77/wet/CC-MAIN-20170322212949-00140-ip-10-233-31-227.ec2.internal.warc.wet.gz \n",
    "Décompressez et obtenez le fichier CC-MAIN-20170322212949-00140-ip-10-233-31-227.ec2.internal.warc.wet  <br>\n",
    "Il s’agit d’une tranche contenant un ensemble de sites internet au format texte brut (WET).\n",
    "Testez votre programme avec ce fichier en entrée. Chronométrez-le. <br>\n"
   ]
  },
  {
   "cell_type": "markdown",
   "metadata": {},
   "source": [
    "<a id=etape-2 />"
   ]
  },
  {
   "cell_type": "markdown",
   "metadata": {},
   "source": [
    "# Etape 2: travailler avec plusieurs ordinateurs en réseau.\n",
    "\n",
    "[Retour index](#index)"
   ]
  },
  {
   "cell_type": "markdown",
   "metadata": {},
   "source": [
    "<a id=2-1 />"
   ]
  },
  {
   "cell_type": "markdown",
   "metadata": {},
   "source": [
    "## 2.1 Nom court, nom long\n",
    "\n",
    ">Quel est le nom COURT de votre ordinateur (le nom simple sans le domaine) ?   quel est le nom LONG de votre ordinateur (le nom avec le domaine) ? Comment les connaître en ligne de commande ? Sur les ordinateurs de l’école, est-il possible d’obtenir ces noms autrement qu’en ligne de commande ? "
   ]
  },
  {
   "cell_type": "markdown",
   "metadata": {},
   "source": [
    "Pour obtenir le nom court de notre ordinateur on tape la ligne de commande:\n",
    "```shell\n",
    "vincent@vincent-ThinkPad-T540p:~$ hostname\n",
    "```\n",
    "Pour obtenir le nom long la ligne de commande est:\n",
    "<pre><code>\n",
    "   TODO\n",
    "</code></pre>\n",
    "\n"
   ]
  },
  {
   "cell_type": "markdown",
   "metadata": {},
   "source": [
    "<a id=2-2 />"
   ]
  },
  {
   "cell_type": "markdown",
   "metadata": {},
   "source": [
    "## 2.2 Adresse ip\n",
    "\n",
    ">Comment connaître les adresses (plusieurs) IP de votre ordinateur en ligne de commande ? Autrement (en passant par un site internet par exemple) ? "
   ]
  },
  {
   "cell_type": "markdown",
   "metadata": {},
   "source": [
    "Pour connaitre les adresses IP de notre ordinateur on peut taper en ligne de commande:\n",
    "    \n",
    "```shell\n",
    "\n",
    "vincent@vincent-ThinkPad-T540p:~$ ifconfig\n",
    " \n",
    "```"
   ]
  },
  {
   "cell_type": "markdown",
   "metadata": {},
   "source": [
    "<a id=2-3 />"
   ]
  },
  {
   "cell_type": "markdown",
   "metadata": {},
   "source": [
    "## 2.3 Du nom vers l’IP\n",
    "\n",
    ">Comment à partir du nom d’un ordinateur, obtenir les adresses IP en ligne de commande ? "
   ]
  },
  {
   "cell_type": "markdown",
   "metadata": {},
   "source": [
    "Obtenir à partir du nom d'un ordinateur les adresse IP :\n",
    "\n",
    "```shell\n",
    " vincent@vincent-ThinkPad-T540p:~$ TODO\n",
    "```"
   ]
  },
  {
   "cell_type": "markdown",
   "metadata": {},
   "source": [
    "<a id=2-4 />"
   ]
  },
  {
   "cell_type": "markdown",
   "metadata": {},
   "source": [
    "## 2.4 De l’IP vers le nom\n",
    "\n",
    ">Comment, à partir d’une adresse IP, obtenir les noms associés en ligne de commande ? "
   ]
  },
  {
   "cell_type": "markdown",
   "metadata": {},
   "source": [
    "Obtenir à partir de l'adresse IP, les noms associés:\n",
    "\n",
    "```shell\n",
    "vincent@vincent-ThinkPad-T540p:~$ TODO\n",
    "```"
   ]
  },
  {
   "cell_type": "markdown",
   "metadata": {},
   "source": [
    "<a id=2-5 />"
   ]
  },
  {
   "cell_type": "markdown",
   "metadata": {},
   "source": [
    "## 2.5 Ping pong à l’intérieur!\n",
    "\n",
    ">Testez la communication avec d’autres ordinateurs (pas le vôtre) depuis le réseau de l’école en utilisant la commande ping (pour arrêter le ping faire CTRL + C). suivi du nom court, du nom long, de l’IP. Les trois méthodes fonctionnent-elles ?"
   ]
  },
  {
   "cell_type": "markdown",
   "metadata": {},
   "source": [
    "Pour tester la comunication avec d'autres ordinateurs on peut faire les commandes:\n",
    "```shell\n",
    "vincent@vincent-ThinkPad-T540p:~$ ping c123-01\n",
    "    TODO\n",
    "```"
   ]
  },
  {
   "cell_type": "markdown",
   "metadata": {},
   "source": [
    "<a id=2-6 />"
   ]
  },
  {
   "cell_type": "markdown",
   "metadata": {},
   "source": [
    "## 2.6 Ping pong à l’extérieur"
   ]
  },
  {
   "cell_type": "markdown",
   "metadata": {},
   "source": [
    "On peut utiliser les mêmes commandes que précédemment mais en étant connecter en VPN au réseau de l'école.\n",
    "```shell\n",
    "vincent@vincent-ThinkPad-T540p:~$ TODO \n",
    "```"
   ]
  },
  {
   "cell_type": "markdown",
   "metadata": {},
   "source": [
    "<a id=2-7 />"
   ]
  },
  {
   "cell_type": "markdown",
   "metadata": {},
   "source": [
    "## 2.7 Calculer en ligne de commande sur l’ordinateur local\n",
    "\n",
    ">Comment lancer un calcul en ligne de commande sur votre ordinateur (par exemple 2 + 3) ? Parmi les multiples réponses possibles, lesquelles permettent de lancer le calcul et d’obtenir le résultat en appuyant une seule fois sur la touche <Entrée> ?"
   ]
  },
  {
   "cell_type": "markdown",
   "metadata": {},
   "source": [
    "Pour calculer en ligne de commande on peut taper:\n",
    "\n",
    "```bash\n",
    "vincent@vincent-ThinkPad-T540p:~$ calc 2+3\n",
    "```"
   ]
  },
  {
   "cell_type": "markdown",
   "metadata": {},
   "source": [
    "<a id=2-8 />"
   ]
  },
  {
   "cell_type": "markdown",
   "metadata": {},
   "source": [
    "## 2.8 Calculer en ligne de commande sur un ordinateur distant\n",
    "\n",
    ">Comment lancer un calcul  (par exemple 2 + 3) en ligne de commande sur un autre ordinateur (à distance) ? Il faudra certainement vous authentifier avec un mot de passe. Comment obtenir le résultat du calcul immédiatement après avoir tapé son mot de passe ?"
   ]
  },
  {
   "cell_type": "markdown",
   "metadata": {},
   "source": [
    "Pour ce connecter à distance on utilise la commande `ssh` pour calculer à distance on utilise la commande:\n",
    "```shell\n",
    "vincent@vincent-ThinkPad-T540p:~$ ssh vrichard@c123-01 calc 2+3\n",
    "```"
   ]
  },
  {
   "cell_type": "markdown",
   "metadata": {},
   "source": [
    "<a id=2-9 />"
   ]
  },
  {
   "cell_type": "markdown",
   "metadata": {},
   "source": [
    "## 2.9 Calculer à distance sans mot de passe\n",
    "\n",
    ">Comment lancer un calcul à distance en utilisant SSH sans taper le mot de passe et en une seule ligne de commande (c’est à dire qu’on appuie sur <Entrée> et on a le résultat directement)?"
   ]
  },
  {
   "cell_type": "markdown",
   "metadata": {},
   "source": [
    "# TODO\n",
    "Pour se calculer à distance sans mot de passe il faut paramétrer une clé RSA pour être reconnue par les ordinateurs de l'école sans avoir à taper notre mot de passe.\n",
    "On peut ensuite taper la commande précédente.\n"
   ]
  },
  {
   "cell_type": "markdown",
   "metadata": {},
   "source": [
    "<a id=etape-3 />"
   ]
  },
  {
   "cell_type": "markdown",
   "metadata": {},
   "source": [
    "# Etape 3: travailler avec des fichiers locaux ou sur un serveur NFS.\n",
    "\n",
    "[Retour index](#index)"
   ]
  },
  {
   "cell_type": "markdown",
   "metadata": {},
   "source": [
    "<a id=3-1 />"
   ]
  },
  {
   "cell_type": "markdown",
   "metadata": {},
   "source": [
    "## 3.1 Chemin absolu\n",
    "\n",
    ">Quel est le chemin absolu de votre répertoire personnel, votre home directory ? (commandes “cd” puis ”pwd”)\n"
   ]
  },
  {
   "cell_type": "markdown",
   "metadata": {},
   "source": [
    "Le chemin absolu une fois connecté en `ssh` au ordinateur de l'école est:\n",
    "```shell\n",
    "vrichard@c130-05 ~ $ pwd\n",
    "/cal/homes/vrichard\n",
    "```"
   ]
  },
  {
   "cell_type": "markdown",
   "metadata": {},
   "source": [
    "<a id=3-2 />"
   ]
  },
  {
   "cell_type": "markdown",
   "metadata": {},
   "source": [
    "## 3.2 Un fichier dans le répertoire personnel\n",
    "\n",
    ">Créez un fichier fperso.txt contenant le texte “bonjour” dans votre répertoire personnel (sur un ordinateur de l’école). \n",
    "Vérifiez le contenu du fichier avec cette commande exactement:\n",
    "cat ~/fperso.txt"
   ]
  },
  {
   "cell_type": "markdown",
   "metadata": {},
   "source": [
    "```shell\n",
    "vrichard@c130-05 ~ $ cat ~/fperso.txt\n",
    "bonjour\n",
    "```"
   ]
  },
  {
   "cell_type": "markdown",
   "metadata": {},
   "source": [
    "<a id=3-3 />"
   ]
  },
  {
   "cell_type": "markdown",
   "metadata": {},
   "source": [
    "## 3.3 Ou se trouve le fichier dans le répertoire personnel\n",
    "\n",
    ">Ce fichier est-il sur le disque dur de l’ordinateur ou autre part ? Comment savoir où est stocké physiquement ce fichier, à l’aide de quelle commande ? "
   ]
  },
  {
   "cell_type": "markdown",
   "metadata": {},
   "source": [
    "Ce fichier est stocker sur le cloud de mon espace personnel on peut le vérifier avec la commande:\n",
    "```shell\n",
    "vrichard@c130-05 ~ $ df -k fperso.txt\n",
    "Sys. de fichiers                        blocs de 1K Utilisé Disponible Uti% Monté sur\n",
    "zfs-b232.enst.fr:/export/homes/vrichard     3145728   49152    3096576   2% /cal/homes/vrichard\n",
    "```\n",
    "\n",
    "Le `Sys. de fichier` nous indique que notre fichier est situé sur le volume `zfs-b232.enst.fr:/export/homes/vrichard` donc il n'est pas sur le système."
   ]
  },
  {
   "cell_type": "markdown",
   "metadata": {},
   "source": [
    "<a id=3-4 />"
   ]
  },
  {
   "cell_type": "markdown",
   "metadata": {},
   "source": [
    "## 3.4 Un dossier et un fichier dans le répertoire temporaire\n",
    "\n",
    ">Créez un dossier /tmp/<votre nom d’utilisateur> en remplaçant <votre nom d’utilisateur>.<br>\n",
    "Créez un fichier ftemp.txt dans le répertoire /tmp/<votre nom d’utilisateur> .<br>\n",
    "Vérifiez le contenu du fichier avec cette commande exactement:<br>\n",
    "cat /tmp/<votre nom d’utilisateur>/ftemp.txt <br>\n",
    "Ce dossier et ce fichier sont-ils sur le disque dur de l’ordinateur ou autre part ? Comment savoir où sont stockés physiquement ces éléments, à l’aide de quelle commande ?\n"
   ]
  },
  {
   "cell_type": "markdown",
   "metadata": {},
   "source": [
    "On crée un dossier /tmp/vrichard:\n",
    "```shell\n",
    "vrichard@c130-05 ~ $ mkdir /tmp/vrichard\n",
    "```\n",
    "puis on crée le fichier et on le modifie\n",
    "\n",
    "```shell\n",
    "vrichard@c130-05 ~ $ touch /tmp/vrichard/ftemp.txt\n",
    "```\n",
    "\n",
    "Modification du fichier:\n",
    "\n",
    "```shell\n",
    "vrichard@c130-05 ~ $ nano /tmp/vrichard/ftemp.txt\n",
    "```\n",
    "\n",
    "```shell\n",
    "vrichard@c130-05 ~ $ cat /tmp/vrichard/ftemp.txt\n",
    "bonjour\n",
    "```\n",
    "\n",
    "On observe où le fichier est situé:\n",
    "```shell\n",
    "vrichard@c130-05 ~ $ df -k /tmp/vrichard/ftemp.txt\n",
    "Sys. de fichiers      blocs de 1K Utilisé Disponible Uti% Monté sur\n",
    "/dev/mapper/vg-lv_tmp     9545920   42164    8999132   1% /tmp\n",
    "```\n",
    "\n",
    "Ici on voit que le système de fichier est `/dev/mapper/vg-lv_tmp` donc il est bien enregistrer sur cette machine"
   ]
  },
  {
   "cell_type": "markdown",
   "metadata": {},
   "source": [
    "<a id=3-5 />"
   ]
  },
  {
   "cell_type": "markdown",
   "metadata": {},
   "source": [
    "## 3.5 Trois ordinateurs A B C. On commence avec A. Utilisation du serveur NFS\n",
    "\n",
    ">Pour les questions suivantes, utilisez trois ordinateurs: A, B C. <br>\n",
    "Connectez vous physiquement (avec un clavier, une souris et un écran) sur l’ordinateur A. <br>\n",
    "Sur A, créez un fichier text.txt contenant le texte “mon texte sur NFS” dans votre répertoire personnel. <br>\n",
    "Vérifiez que le fichier existe et vérifiez son contenu. Pour cela, sur A, utilisez la commande : <br>\n",
    "cat ~/text.txt"
   ]
  },
  {
   "cell_type": "markdown",
   "metadata": {},
   "source": [
    "On créé notre fichier en ajoutant le texte \"mon texte sur NFS\":\n",
    "\n",
    "```shell\n",
    "vrichard@c130-05 ~ % echo \"mon texte sur NFS\" > text.txt\n",
    "```\n",
    "\n",
    "On vérifie avec la commande cat:\n",
    "\n",
    "```shell\n",
    "vrichard@c130-05 ~ % cat ~/text.txt \n",
    "mon texte sur NFS\n",
    "```\n",
    "    "
   ]
  },
  {
   "cell_type": "markdown",
   "metadata": {},
   "source": [
    "<a id=3-6 />"
   ]
  },
  {
   "cell_type": "markdown",
   "metadata": {},
   "source": [
    "## 3.6 Trois ordinateurs A B C. On continue sur B et sur C. Utilisation du serveur NFS\n",
    "\n",
    ">Connectez-vous à B (physiquement ou à distance) et vérifiez que le fichier text.txt est également présent dans votre répertoire personnel. Pour cela, sur B, utilisez la commande :<br>\n",
    "cat ~/text.txt <br>\n",
    "De même, connectez-vous à C et vérifiez que text.txt est aussi présent. <br>\n",
    "Remarquez que vous n’avez pas copié le fichier mais qu’il est présent sur A, B et C grâce au serveur NFS.\n"
   ]
  },
  {
   "cell_type": "markdown",
   "metadata": {},
   "source": [
    "Pour vérifier que le fichier existe bien on effectue la ligne de commande par ssh sur les deux machines:\n",
    "\n",
    "```shell\n",
    "vrichard@c130-05 ~ % ssh vrichard@c130-07 \"cat ~/text.txt\"\n",
    "mon texte sur NFS\n",
    "vrichard@c130-05 ~ % ssh vrichard@c130-08 \"cat ~/text.txt\"\n",
    "mon texte sur NFS\n",
    "```"
   ]
  },
  {
   "cell_type": "markdown",
   "metadata": {},
   "source": [
    "<a id=3-7 />"
   ]
  },
  {
   "cell_type": "markdown",
   "metadata": {},
   "source": [
    "## 3.7 Trois ordinateurs A B C. On commence avec A. Utilisation des disques locaux\n",
    "\n",
    ">Déconnectez vous de B et de C et revenez sur l’ordinateur A. <br>\n",
    "Sur A, créez un dossier /tmp/<votre nom d’utilisateur> et un fichier local.txt contenant le texte “mon texte sur disque local” dans ce dossier /tmp/<votre nom d’utilisateur>. <br>\n",
    "Vérifiez que le fichier existe et vérifiez son contenu. Pour cela, sur A, utilisez la commande :\n",
    "cat /tmp/<votre nom d’utilisateur>/local.txt\n"
   ]
  },
  {
   "cell_type": "markdown",
   "metadata": {},
   "source": [
    "On réutilise les mêmes commandes que précédemment avec le nom de fichier `local.txt`\n",
    "\n",
    "```shell\n",
    "vrichard@c130-05 ~ % echo \"mon texte sur disque local\" > /tmp/vrichard/local.txt\n",
    "vrichard@c130-05 ~ % cat tmp/vrichard/local.txt\n",
    "mon texte sur disque local\n",
    "```"
   ]
  },
  {
   "cell_type": "markdown",
   "metadata": {},
   "source": [
    "<a id=3-8 />"
   ]
  },
  {
   "cell_type": "markdown",
   "metadata": {},
   "source": [
    "## 3.8 Trois ordinateurs A B C. On continue sur B et sur C. Utilisation des disques locaux\n",
    "\n",
    ">Connectez-vous à B et C (physiquement ou à distance) et vérifiez que le dossier <votre nom d’utilisateur> ainsi que le fichier local.txt ne sont pas présent dans /tmp . Pour cela vérifiez avec la commande: <br>\n",
    "ls /tmp\n"
   ]
  },
  {
   "cell_type": "markdown",
   "metadata": {},
   "source": [
    "Comme précédemment on effectue ces commandes par ssh:\n",
    "```shell\n",
    "vrichard@c130-05 ~ % ssh vrichard@c130-07 \"ls /tmp\"\n",
    "```\n",
    "De même pour la machine c130-08 on peut voir que les dossier ne sont pas présent."
   ]
  },
  {
   "cell_type": "markdown",
   "metadata": {},
   "source": [
    "<a id=3-9 />"
   ]
  },
  {
   "cell_type": "markdown",
   "metadata": {},
   "source": [
    "## 3.9 Depuis A, copier de A vers B avec les disques locaux\n",
    "\n",
    ">Comment, à partir de A, transférer le fichier /tmp/local.txt sur B (dans /tmp/<votre nom d’utilisateur>/local.txt) en utilisant scp ? Vérifiez que le fichier est bien présent sur B. Attention: si vous avez une erreur “no such file or directory” (ou l’équivalent français), vous devez d’abord créer le répertoire /tmp/<votre nom d’utilisateur>/ avec la commande mkdir -p associée à un ssh pour l’ordinateur distant.\n"
   ]
  },
  {
   "cell_type": "markdown",
   "metadata": {},
   "source": [
    "On commence par créer le dossier avec la commande:\n",
    "```shell\n",
    "vrichard@c130-05 ~ % ssh vrichard@c130-07 \"mkdir -p /tmp/vrichard\"\n",
    "```\n",
    "Puis on copie le fichier avec la commande:\n",
    "```shell\n",
    "vrichard@c130-05 ~ % scp /tmp/vrichard/local.txt c130-07:/tmp/vrichard/\n",
    "```"
   ]
  },
  {
   "cell_type": "markdown",
   "metadata": {},
   "source": [
    "<a id=3-10 />"
   ]
  },
  {
   "cell_type": "markdown",
   "metadata": {},
   "source": [
    "## 3.10 Depuis A, copier de B vers C avec les disques locaux\n",
    "\n",
    ">Comment, à partir de A, transférer le fichier de B (depuis /tmp/<votre nom  d’utilisateur>/local.txt) vers C (dans /tmp/<votre nom d’utilisateur>/local.txt) ? <br>Vérifiez que le fichier est bien présent sur C. De même que la question précédentes, vous devez créer les répertoires /tmp/<votre nom d’utilisateur>/ correspondants."
   ]
  },
  {
   "cell_type": "markdown",
   "metadata": {},
   "source": [
    "On commence par créer le dossier avec la commande:\n",
    "```shell\n",
    "vrichard@c130-05 ~ % ssh vrichard@c130-08 \"mkdir -p /tmp/vrichard\"\n",
    "```\n",
    "Puis on copie le fichier avec la commande:\n",
    "```shell\n",
    "vrichard@c130-05 ~ % scp c130-07:/tmp/vrichard/local.txt c130-08:/tmp/vrichard/\n",
    "```"
   ]
  },
  {
   "cell_type": "markdown",
   "metadata": {},
   "source": [
    "<a id=etape-4 />"
   ]
  },
  {
   "cell_type": "markdown",
   "metadata": {},
   "source": [
    "# Etape 4: lancer des programmes java à distance manuellement\n",
    "\n",
    "[Retour index](#index)\n",
    "\n",
    ">Un premier programme SLAVE sous Eclipse <br>\n",
    "Faire un programme Java nommé “SLAVE” qui calcule 3+5, affiche le résultat, sous Eclipse (Pour lancer Eclipse: Menu applications>développement), lancer ce programme dans Eclipse (flèche verte “exécuter”)\n"
   ]
  },
  {
   "cell_type": "markdown",
   "metadata": {},
   "source": [
    "<a id=4-1 />"
   ]
  },
  {
   "cell_type": "markdown",
   "metadata": {},
   "source": [
    "## 4.1 Exportation en JAR\n",
    "\n",
    ">Exporter le programme Java en slave.jar exécutable (Java ARchive dite Runnable) sous Eclipse. Attention de bien vérifier que le JAR est de type “Runnable”/”exécutable”.\n"
   ]
  },
  {
   "cell_type": "code",
   "execution_count": 18,
   "metadata": {},
   "outputs": [],
   "source": [
    "public class Slave {\n",
    "    public static void main (String[] args){\n",
    "        int a = 3+5;\n",
    "        System.out.println(a);\n",
    "    }\n",
    "}"
   ]
  },
  {
   "cell_type": "markdown",
   "metadata": {},
   "source": [
    "<a id=4-2 />"
   ]
  },
  {
   "cell_type": "markdown",
   "metadata": {},
   "source": [
    "## 4.2 Exécution sur disque dur local\n",
    "\n",
    ">Créez le répertoire /tmp/<votre nom d’utilisateur>/ <br>\n",
    "Copiez  slave.jar exécutable dans le répertoire /tmp/<votre nom d’utilisateur>/ <br>\n",
    "Testez et Lancer le slave.jar en ligne de commande sur votre ordinateur local."
   ]
  },
  {
   "cell_type": "markdown",
   "metadata": {},
   "source": [
    "Pour executer le .jar on applique la commande:\n",
    "```shell\n",
    "vrichard@c130-05 ~ % java -jar tmp/vrichar/SLAVE.jar\n",
    "8\n",
    "```"
   ]
  },
  {
   "cell_type": "markdown",
   "metadata": {},
   "source": [
    "<a id=4-3 />"
   ]
  },
  {
   "cell_type": "markdown",
   "metadata": {},
   "source": [
    "## 4.3 Copie du JAR et exécution distante\n",
    "\n",
    ">Depuis la machine A contenant /tmp/<votre nom d’utilisateur>/slave.jar  <br>\n",
    "Créez à distance sur la machine B (s’il n’existe pas) un répertoire /tmp/<votre nom d’utilisateur>/ <br>\n",
    "Copiez slave.jar sur la machine B dans le répertoire /tmp/<votre nom d’utilisateur>/ <br>\n",
    "Exécutez à distance (depuis A sur la machine B) le slave.jar. <br>\n",
    "Quelle est la commande tapée pour effectuer cette dernière action ?\n"
   ]
  },
  {
   "cell_type": "markdown",
   "metadata": {},
   "source": [
    "On copie le fichier:\n",
    "```shell\n",
    "vrichard@c130-05 ~ % scp /tmp/vrichard/SLAVE.jar c130-07:/tmp/vrichard/\n",
    "```\n",
    "Puis on l'execute:\n",
    "```shell\n",
    "vrichard@c130-05 ~ % ssh c130-07 \"java -jar /tmp/vrichard/SLAVE.jar\"\n",
    "8\n",
    "```\n"
   ]
  },
  {
   "cell_type": "markdown",
   "metadata": {},
   "source": [
    "<a id=etape-5 />"
   ]
  },
  {
   "cell_type": "markdown",
   "metadata": {},
   "source": [
    "# Etape 5: lancer des programmes en ligne de commande depuis java et afficher la sortie standard et la sortie d’erreur\n",
    "\n",
    "[Retour index](#index)"
   ]
  },
  {
   "cell_type": "markdown",
   "metadata": {},
   "source": [
    "<a id=5-1 />"
   ]
  },
  {
   "cell_type": "markdown",
   "metadata": {},
   "source": [
    "## 5.1 Un programme MASTER java qui lance un autre programme en ligne de commande!\n",
    "\n",
    ">Ecrire un programme java nommé “MASTER” qui lance la commande suivante en utilisant ProcessBuilder: <br>\n",
    "ls -al /tmp <br>\n",
    "(vous pouvez aussi tester cette commande dans un terminal avant)\n",
    "Récupérer et afficher la sortie de cette commande. <br>\n",
    "Vous devez utiliser ProcessBuilder de cette façon: <br>\n",
    "ProcessBuilder pb = new ProcessBuilder(\"ls\", “-al”, “/tmp”);\n"
   ]
  },
  {
   "cell_type": "markdown",
   "metadata": {},
   "source": [
    "On utilise la class `ProcessBuilder` pour lancer notre programme extérieur.  <br>\n",
    "La méthode `printInputStream` nous permet de récupérer et afficher un élément d'un reader. <br>\n",
    "Ici on créé un nouveau `InputStreamReader` encapsulant la sortie de notre `ProcessBuilder` et nous permettant de l'afficher."
   ]
  },
  {
   "cell_type": "code",
   "execution_count": 9,
   "metadata": {},
   "outputs": [],
   "source": [
    "import java.io.BufferedReader;\n",
    "import java.io.IOException;\n",
    "import java.io.InputStreamReader;\n",
    "import java.io.Reader;\n",
    "import java.util.stream.Collectors;\n",
    "\n",
    "public class Master {\n",
    "    public Master() {\n",
    "    }\n",
    "\n",
    "    public static void main(String[] args) throws IOException {\n",
    "        ProcessBuilder pb = new ProcessBuilder(\"ls\", \"-al\", \"/tmp\");\n",
    "        Process p = pb.start(); \n",
    "        //Récupération de l'InpuStream (des éléments de sorties) de cette commande\n",
    "        printInputReader(new InputStreamReader(p.getInputStream()));\n",
    "    }\n",
    "\n",
    "    public static void printInputReader(Reader reader) {\n",
    "        BufferedReader readerOutput = new BufferedReader(reader);\n",
    "        //Récupération et impression de tous les sortie renvoyer par la ligne de commande\n",
    "        System.out.print((String)readerOutput.lines().collect(Collectors.joining(System.lineSeparator())));\n",
    "    }\n",
    "}"
   ]
  },
  {
   "cell_type": "markdown",
   "metadata": {},
   "source": [
    "<a id=5-2 />"
   ]
  },
  {
   "cell_type": "markdown",
   "metadata": {},
   "source": [
    "## 5.2 Un programme MASTER java qui gère les erreurs de lancement d’un autre programme en ligne de commande \n",
    "\n",
    ">Modifiez votre programme”MASTER” pour qu’il affiche la sortie d’erreur en cas d’erreur lors de l’exécution de la commande. Testez la sortie d’erreur avec une commande qui échoue avec un sortie d’erreur. Essayez par exemple d’exécuter la commande “ls /jesuisunhero”."
   ]
  },
  {
   "cell_type": "markdown",
   "metadata": {},
   "source": [
    "On reprends notre programme précédant en appelant la méthode `printInputReader` pour chaque sortie qui nous intéresse. donc ici une pour la sortie standard `InputStream` et une pour la sortie d'erreur `ErrorStream`."
   ]
  },
  {
   "cell_type": "code",
   "execution_count": 8,
   "metadata": {},
   "outputs": [],
   "source": [
    "import java.io.BufferedReader;\n",
    "import java.io.IOException;\n",
    "import java.io.InputStreamReader;\n",
    "import java.io.Reader;\n",
    "import java.util.stream.Collectors;\n",
    "\n",
    "public class Master {\n",
    "    public Master() {\n",
    "    }\n",
    "\n",
    "    public static void main(String[] args) throws IOException {\n",
    "        ProcessBuilder pb = new ProcessBuilder(\"ls\", \"/jesuisunhero\");\n",
    "        Process p = pb.start();\n",
    "        //Récupère et affiche la sortie standard du process p\n",
    "        printInputReader(new InputStreamReader(p.getInputStream()));\n",
    "        //Récupère et afficher la sortie d'erreur du process p\n",
    "        printInputReader(new InputStreamReader(p.getErrorStream()));\n",
    "    }\n",
    "\n",
    "    public static void printInputReader(Reader reader) {\n",
    "        BufferedReader readerOutput = new BufferedReader(reader);\n",
    "        System.out.print((String)readerOutput.lines().collect(Collectors.joining(System.lineSeparator())));\n",
    "    }\n",
    "}"
   ]
  },
  {
   "cell_type": "markdown",
   "metadata": {},
   "source": [
    "<a id=5-3 />"
   ]
  },
  {
   "cell_type": "markdown",
   "metadata": {},
   "source": [
    "## 5.3 Un programme MASTER java qui lance un slave.jar en ligne de commande\n",
    "\n",
    ">Modifiez votre programme “MASTER” pour qu’il lance “SLAVE”, c’est à dire slave.jar situé sur la même machine que “MASTER” dans le dossier /tmp/<votre nom d’utilisateur>/slave.jar "
   ]
  },
  {
   "cell_type": "markdown",
   "metadata": {},
   "source": [
    "On modifie la commande effectué par le `ProcessBuilder` pour qu'il execute le SLAVE.jar. en unité de commande ce la donne: \n",
    "\n",
    "```shell\n",
    "java -jar tmp/vrichar/SLAVE.jar\n",
    "```\n",
    "\n",
    "On change donc les arguments du constructeur en conséquence"
   ]
  },
  {
   "cell_type": "code",
   "execution_count": 10,
   "metadata": {},
   "outputs": [],
   "source": [
    "import java.io.BufferedReader;\n",
    "import java.io.IOException;\n",
    "import java.io.InputStreamReader;\n",
    "import java.io.Reader;\n",
    "import java.util.stream.Collectors;\n",
    "\n",
    "public class Master {\n",
    "    public Master() {\n",
    "    }\n",
    "\n",
    "    public static void main(String[] args) throws IOException {\n",
    "        //Nouveau ProcessBuilder executant un jar\n",
    "        ProcessBuilder pb = new ProcessBuilder(\"java\", \"-jar\", \"/tmp/vrichard/SLAVE.jar\");\n",
    "        Process p = pb.start();\n",
    "        //Récupère et affiche la sortie standard du process p\n",
    "        printInputReader(new InputStreamReader(p.getInputStream()));\n",
    "        //Récupère et afficher la sortie d'erreur du process p\n",
    "        printInputReader(new InputStreamReader(p.getErrorStream()));\n",
    "    }\n",
    "\n",
    "    public static void printInputReader(Reader reader) {\n",
    "        BufferedReader readerOutput = new BufferedReader(reader);\n",
    "        System.out.print((String)readerOutput.lines().collect(Collectors.joining(System.lineSeparator())));\n",
    "    }\n",
    "}"
   ]
  },
  {
   "cell_type": "markdown",
   "metadata": {},
   "source": [
    "<a id=etape-6 />"
   ]
  },
  {
   "cell_type": "markdown",
   "metadata": {},
   "source": [
    "# Etape 6: gérer les timeout du MASTER\n",
    "\n",
    "[Retour index](#index)"
   ]
  },
  {
   "cell_type": "markdown",
   "metadata": {},
   "source": [
    "<a id=6-1 />"
   ]
  },
  {
   "cell_type": "markdown",
   "metadata": {},
   "source": [
    "## 6.1 Un SLAVE qui simule un calcul de 10 secondes\n",
    "\n",
    ">Modifiez votre programme SLAVE pour qu’il simule une attente de 10 secondes avant d’afficher le résultat du calcul 3+5. Pour cela utilisez <br>\n",
    "`Thread.sleep(10000);` <br>\n",
    "Vérifiez le bon fonctionnement du SLAVE et constatez qu’il y a 10 secondes entre le démarrage du SLAVE et l’affichage du résultat. Attention de ne rien afficher avant les 10 secondes pour que la question suivante fonctionne correctement. <br>\n",
    "Générez de nouveau le slave.jar. Copiez-le en écrasant le slave.jar dans le dossier /tmp/<votre nom d’utilisateur>/slave.jar <br>\n",
    "Testez le lancement à partir de MASTER.\n"
   ]
  },
  {
   "cell_type": "markdown",
   "metadata": {},
   "source": [
    "L'element try/catch est nécessaire par définition de la méthode `Thread.sleep`"
   ]
  },
  {
   "cell_type": "code",
   "execution_count": 11,
   "metadata": {},
   "outputs": [],
   "source": [
    "public class Slave {\n",
    "    public static void main (String[] args){\n",
    "        try {\n",
    "            //Attente de 10 secondes\n",
    "            Thread.sleep(10000);\n",
    "        } catch (InterruptedException e) {\n",
    "            e.printStackTrace();\n",
    "        }\n",
    "        int a = 3+5;\n",
    "        System.out.println(a);\n",
    "    }\n",
    "}"
   ]
  },
  {
   "cell_type": "markdown",
   "metadata": {},
   "source": [
    "<a id=6-2 />"
   ]
  },
  {
   "cell_type": "markdown",
   "metadata": {},
   "source": [
    "## 6.2 Gérer les timeout au niveau du MASTER\n",
    "\n",
    ">Modifier le MASTER pour qu’il attende que quelque chose soit écrit dans la sortie standard (sans erreur) ou dans la sortie d’erreurs du SLAVE pendant un certain temps maximum. Au bout du temps imparti le MASTER considère un timeout. <br>\n",
    "Il arrête les éventuels threads (si vous utilisez des threads - non obligatoire) s’occupant des sorties et/ou stoppe le processus créé avec ProcessBuilder. <br>\n",
    "Vous avez la solution ci-dessous pour implémenter les TESTs suivants: <br>\n",
    "TEST1 : Testez le bon fonctionnement du timeout en lançant le SLAVE avec un timeout de 2 secondes sur les sorties (standard et d’erreur). Le timeout étant plus court (au niveau du MASTER 2 secondes) que le temps de calcul du SLAVE (10 secondes), le MASTER doit arrêter les éventuels threads (si vous en utilisez) et le processus. <br>\n",
    "TEST 2: Testez ensuite avec un timeout de 15 secondes, il ne devrait pas y avoir de timeout. <br>\n",
    "TEST 3: Testez ensuite en changeant le SLAVE pour qu’il écrive non plus dans la sortie standard (sans erreur) mais dans la sortie d’erreur. Pour cela, remplacez dans le Slave les System.out.print… par System.err.print… <br>\n"
   ]
  },
  {
   "cell_type": "markdown",
   "metadata": {},
   "source": [
    "<a id=etape-7 />"
   ]
  },
  {
   "cell_type": "markdown",
   "metadata": {},
   "source": [
    "# Etape 7: déployer automatiquement le programme SLAVE sur un ensemble de machines\n",
    "\n",
    "[Retour index](#index)"
   ]
  },
  {
   "cell_type": "markdown",
   "metadata": {},
   "source": [
    "<a id=7-1 />"
   ]
  },
  {
   "cell_type": "markdown",
   "metadata": {},
   "source": [
    "## 7.1 Un programme DEPLOY : Test de connection SSH multiple"
   ]
  },
  {
   "cell_type": "markdown",
   "metadata": {},
   "source": [
    "<a id=7-2 />"
   ]
  },
  {
   "cell_type": "markdown",
   "metadata": {},
   "source": [
    "## 7.2 Un programme DEPLOY : copie de slave.jar multiple"
   ]
  },
  {
   "cell_type": "markdown",
   "metadata": {},
   "source": [
    "<a id=etape-8 />"
   ]
  },
  {
   "cell_type": "markdown",
   "metadata": {},
   "source": [
    "# Etape 8: nettoyer un ensemble de machines avec CLEAN\n",
    "\n",
    "[Retour index](#index)"
   ]
  },
  {
   "cell_type": "markdown",
   "metadata": {},
   "source": [
    "<a id=8-1 />"
   ]
  },
  {
   "cell_type": "markdown",
   "metadata": {},
   "source": [
    "## 8.1 Un programme “CLEAN” qui nettoie les machines distantes"
   ]
  },
  {
   "cell_type": "markdown",
   "metadata": {},
   "source": [
    "<a id=8-2 />"
   ]
  },
  {
   "cell_type": "markdown",
   "metadata": {},
   "source": [
    "## 8.2 Vérification du DEPLOY et du CLEAN"
   ]
  },
  {
   "cell_type": "markdown",
   "metadata": {},
   "source": [
    "<a id=etape-9 />"
   ]
  },
  {
   "cell_type": "markdown",
   "metadata": {},
   "source": [
    "# Etape 9: lancer le programme SLAVE sur un ordinateur à distance.\n",
    "\n",
    "[Retour index](#index)"
   ]
  },
  {
   "cell_type": "markdown",
   "metadata": {},
   "source": [
    "<a id=9-1 />"
   ]
  },
  {
   "cell_type": "markdown",
   "metadata": {},
   "source": [
    "## 9.1 CLEAN et DEPLOY"
   ]
  },
  {
   "cell_type": "markdown",
   "metadata": {},
   "source": [
    "<a id=9-2 />"
   ]
  },
  {
   "cell_type": "markdown",
   "metadata": {},
   "source": [
    "## 9.2 Master lançant Slave à distance."
   ]
  },
  {
   "cell_type": "markdown",
   "metadata": {},
   "source": [
    "<a id=etape-10 />"
   ]
  },
  {
   "cell_type": "markdown",
   "metadata": {},
   "source": [
    "# Etape 10: MapReduce - SPLIT et MAP\n",
    "\n",
    "[Retour index](#index)"
   ]
  },
  {
   "cell_type": "markdown",
   "metadata": {},
   "source": [
    "<a id=10-1 />"
   ]
  },
  {
   "cell_type": "markdown",
   "metadata": {},
   "source": [
    "## 10.1 Un MASTER qui déploie les splits"
   ]
  },
  {
   "cell_type": "markdown",
   "metadata": {},
   "source": [
    "<a id=10-2 />"
   ]
  },
  {
   "cell_type": "markdown",
   "metadata": {},
   "source": [
    "## 10.2 Un SLAVE qui fait la phase de map"
   ]
  },
  {
   "cell_type": "markdown",
   "metadata": {},
   "source": [
    "<a id=etape-11 />"
   ]
  },
  {
   "cell_type": "markdown",
   "metadata": {},
   "source": [
    "# Etape 11: MapReduce - SHUFFLE\n",
    "\n",
    "[Retour index](#index)"
   ]
  },
  {
   "cell_type": "code",
   "execution_count": null,
   "metadata": {},
   "outputs": [],
   "source": []
  }
 ],
 "metadata": {
  "kernelspec": {
   "display_name": "Java",
   "language": "java",
   "name": "java"
  },
  "language_info": {
   "codemirror_mode": "java",
   "file_extension": ".jshell",
   "mimetype": "text/x-java-source",
   "name": "Java",
   "pygments_lexer": "java",
   "version": "11.0.4+11-post-Ubuntu-1ubuntu218.04.3"
  }
 },
 "nbformat": 4,
 "nbformat_minor": 4
}
